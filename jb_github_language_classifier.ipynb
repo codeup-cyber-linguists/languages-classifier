{
 "cells": [
  {
   "cell_type": "code",
   "execution_count": 1,
   "metadata": {},
   "outputs": [],
   "source": [
    "import pandas as pd\n",
    "import numpy as np\n",
    "import requests\n",
    "from bs4 import BeautifulSoup\n",
    "import itertools\n",
    "import csv\n",
    "import os\n",
    "\n",
    "# import acquire\n",
    "# from acquire import get_article_text"
   ]
  },
  {
   "cell_type": "code",
   "execution_count": 5,
   "metadata": {},
   "outputs": [],
   "source": [
    "def get_article_text():\n",
    "    url = 'https://github.com/microsoft/calculator/blob/master/README.md'\n",
    "\n",
    "    \n",
    "    response = requests.get(url)\n",
    "    soup = BeautifulSoup(response.text)\n",
    "    read_me = soup.find(class_='markdown-body entry-content p-3 p-md-6')\n",
    "    return read_me.text\n",
    "#     value = soup.find(class_='muted-link mr-3').text\n",
    "#     return value"
   ]
  },
  {
   "cell_type": "code",
   "execution_count": 6,
   "metadata": {},
   "outputs": [
    {
     "data": {
      "text/plain": [
       "'Calculator\\nThe Windows Calculator app is a modern Windows app written in C++ that ships pre-installed with Windows.\\nThe app provides standard, scientific, and programmer calculator functionality, as well as a set of converters between various units of measurement and currencies.\\nCalculator ships regularly with new features and bug fixes. You can get the latest version of Calculator in the Microsoft Store.\\n\\n\\nFeatures\\n\\nStandard Calculator functionality which offers basic operations and evaluates commands immediately as they are entered.\\nScientific Calculator functionality which offers expanded operations and evaluates commands using order of operations.\\nProgrammer Calculator functionality which offers common mathematical operations for developers including conversion between common bases.\\nDate Calculation functionality which offers the difference between two dates, as well as the ability to add/subtract years, months and/or days to/from a given input date.\\nCalculation history and memory capabilities.\\nConversion between many units of measurement.\\nCurrency conversion based on data retrieved from Bing.\\nInfinite precision for basic\\narithmetic operations (addition, subtraction, multiplication, division) so that calculations\\nnever lose precision.\\n\\nGetting started\\nPrerequisites:\\n\\n\\nYour computer must be running Windows 10, version 1803 or newer.\\n\\n\\nInstall the latest version of Visual Studio (the free community edition is sufficient).\\n\\nInstall the \"Universal Windows Platform Development\" workload.\\nInstall the optional \"C++ Universal Windows Platform tools\" component.\\nInstall the latest Windows 10 SDK.\\n\\n\\n\\n\\nInstall the XAML Styler Visual Studio extension.\\n\\n\\nGet the code:\\ngit clone https://github.com/Microsoft/calculator.git\\n\\n\\n\\nOpen src\\\\Calculator.sln in Visual Studio to build and run the Calculator app.\\n\\n\\nFor a general description of the Calculator project architecture see ApplicationArchitecture.md.\\n\\n\\nContributing\\nWant to contribute? The team encourages community feedback and contributions. Please follow our contributing guidelines.\\nIf Calculator is not working properly, please file a report in the Feedback Hub.\\nWe also welcome issues submitted on GitHub.\\nRoadmap\\nFor information regarding Windows Calculator plans and release schedule, please see the Windows Calculator Roadmap.\\nData / Telemetry\\nThis project collects usage data and sends it to Microsoft to help improve our products and services.\\nRead our privacy statement to learn more.\\nTelemetry is disabled in development builds by default, and can be enabled with the SEND_TELEMETRY\\nbuild flag.\\nReporting Security Issues\\nSecurity issues and bugs should be reported privately, via email, to the\\nMicrosoft Security Response Center (MSRC) at <secure@microsoft.com>.\\nYou should receive a response within 24 hours. If for some reason you do not, please follow up via\\nemail to ensure we received your original message. Further information, including the\\nMSRC PGP key, can be found in the\\nSecurity TechCenter.\\nLicense\\nCopyright (c) Microsoft Corporation. All rights reserved.\\nLicensed under the MIT License.\\n'"
      ]
     },
     "execution_count": 6,
     "metadata": {},
     "output_type": "execute_result"
    }
   ],
   "source": [
    "get_article_text()"
   ]
  },
  {
   "cell_type": "code",
   "execution_count": 108,
   "metadata": {},
   "outputs": [],
   "source": [
    "def get_article_text():\n",
    "    blobs = ['elixer-ecto/ecto', 'microsoft/calculator', 'koalaman/shellcheck', 'mjbahmani/Kaggle-Competitions']\n",
    "    \n",
    "    good_blobs = []\n",
    "    read_me_list = []\n",
    "    \n",
    "    for blob in blobs:\n",
    "    \n",
    "        url_1 = 'https://github.com/' + str(blob) + '/blob/master/README.md'\n",
    "        url = url_1\n",
    "\n",
    "        response = requests.get(url)\n",
    "        soup = BeautifulSoup(response.text)\n",
    "        read_me = soup.find(class_='markdown-body entry-content p-3 p-md-6')\n",
    "#         read_me_list.append(str(blob) + ':')\n",
    "        \n",
    "        if read_me != None:\n",
    "        \n",
    "            read_me_list.append(read_me.text)\n",
    "            good_blobs.append(str(blob))\n",
    "            \n",
    "    return pd.DataFrame(list(zip(good_blobs, read_me_list)))"
   ]
  },
  {
   "cell_type": "code",
   "execution_count": 109,
   "metadata": {},
   "outputs": [
    {
     "data": {
      "text/html": [
       "<div>\n",
       "<style scoped>\n",
       "    .dataframe tbody tr th:only-of-type {\n",
       "        vertical-align: middle;\n",
       "    }\n",
       "\n",
       "    .dataframe tbody tr th {\n",
       "        vertical-align: top;\n",
       "    }\n",
       "\n",
       "    .dataframe thead th {\n",
       "        text-align: right;\n",
       "    }\n",
       "</style>\n",
       "<table border=\"1\" class=\"dataframe\">\n",
       "  <thead>\n",
       "    <tr style=\"text-align: right;\">\n",
       "      <th></th>\n",
       "      <th>0</th>\n",
       "      <th>1</th>\n",
       "    </tr>\n",
       "  </thead>\n",
       "  <tbody>\n",
       "    <tr>\n",
       "      <th>0</th>\n",
       "      <td>microsoft/calculator</td>\n",
       "      <td>Calculator\\nThe Windows Calculator app is a mo...</td>\n",
       "    </tr>\n",
       "    <tr>\n",
       "      <th>1</th>\n",
       "      <td>koalaman/shellcheck</td>\n",
       "      <td>\\nShellCheck - A shell script static analysis ...</td>\n",
       "    </tr>\n",
       "    <tr>\n",
       "      <th>2</th>\n",
       "      <td>mjbahmani/Kaggle-Competitions</td>\n",
       "      <td>I have participated in various competitions of...</td>\n",
       "    </tr>\n",
       "  </tbody>\n",
       "</table>\n",
       "</div>"
      ],
      "text/plain": [
       "                               0  \\\n",
       "0           microsoft/calculator   \n",
       "1            koalaman/shellcheck   \n",
       "2  mjbahmani/Kaggle-Competitions   \n",
       "\n",
       "                                                   1  \n",
       "0  Calculator\\nThe Windows Calculator app is a mo...  \n",
       "1  \\nShellCheck - A shell script static analysis ...  \n",
       "2  I have participated in various competitions of...  "
      ]
     },
     "execution_count": 109,
     "metadata": {},
     "output_type": "execute_result"
    }
   ],
   "source": [
    "get_article_text()"
   ]
  },
  {
   "cell_type": "code",
   "execution_count": null,
   "metadata": {},
   "outputs": [],
   "source": []
  },
  {
   "cell_type": "code",
   "execution_count": null,
   "metadata": {},
   "outputs": [],
   "source": []
  }
 ],
 "metadata": {
  "kernelspec": {
   "display_name": "Python 3",
   "language": "python",
   "name": "python3"
  },
  "language_info": {
   "codemirror_mode": {
    "name": "ipython",
    "version": 3
   },
   "file_extension": ".py",
   "mimetype": "text/x-python",
   "name": "python",
   "nbconvert_exporter": "python",
   "pygments_lexer": "ipython3",
   "version": "3.7.1"
  }
 },
 "nbformat": 4,
 "nbformat_minor": 2
}
